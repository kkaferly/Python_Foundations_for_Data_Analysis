{
 "cells": [
  {
   "cell_type": "markdown",
   "id": "8d0a6882",
   "metadata": {},
   "source": [
    "### Apply Discounts for Multi-Order Customers\n",
    "\n",
    "We need to apply a 10% discount to every transaction in the list below.\n",
    "\n",
    "Assign the discounted transactions to a new list: `discounted_prices`."
   ]
  },
  {
   "cell_type": "code",
   "execution_count": 4,
   "id": "c8e8c4ee",
   "metadata": {},
   "outputs": [
    {
     "data": {
      "text/plain": [
       "[[1799.94, 29.98, 99.99],\n",
       " [15.98, 119.99],\n",
       " [24.99, 24.99],\n",
       " [649.99, 99.99],\n",
       " [599.99, 399.97]]"
      ]
     },
     "execution_count": 4,
     "metadata": {},
     "output_type": "execute_result"
    }
   ],
   "source": [
    "orders_c00001 = [1799.94, 29.98, 99.99]\n",
    "orders_c00004 = [15.98, 119.99]\n",
    "orders_c00006 = [24.99, 24.99]\n",
    "orders_c00008 = [649.99, 99.99]\n",
    "orders_c00010 = [599.99, 399.97]\n",
    "\n",
    "multi_order_customers = [\n",
    "    [1799.94, 29.98, 99.99],\n",
    "    [15.98, 119.99],\n",
    "    [24.99, 24.99],\n",
    "    [649.99, 99.99],\n",
    "    [599.99, 399.97]\n",
    "]\n",
    "\n",
    "multi_order_customers"
   ]
  },
  {
   "cell_type": "code",
   "execution_count": 5,
   "id": "274b47ee",
   "metadata": {
    "scrolled": true
   },
   "outputs": [
    {
     "data": {
      "text/plain": [
       "[[1619.95, 26.98, 89.99],\n",
       " [14.38, 107.99],\n",
       " [22.49, 22.49],\n",
       " [584.99, 89.99],\n",
       " [539.99, 359.97]]"
      ]
     },
     "execution_count": 5,
     "metadata": {},
     "output_type": "execute_result"
    }
   ],
   "source": [
    "discounted_prices = []\n",
    "\n",
    "for orders in multi_order_customers:\n",
    "    discounted_price = []\n",
    "    for order in orders:\n",
    "        discount = round(order * .9, 2)\n",
    "        discounted_price.append(discount)\n",
    "    discounted_prices.append(discounted_price)\n",
    "\n",
    "discounted_prices"
   ]
  }
 ],
 "metadata": {
  "kernelspec": {
   "display_name": "Python 3 (ipykernel)",
   "language": "python",
   "name": "python3"
  },
  "language_info": {
   "codemirror_mode": {
    "name": "ipython",
    "version": 3
   },
   "file_extension": ".py",
   "mimetype": "text/x-python",
   "name": "python",
   "nbconvert_exporter": "python",
   "pygments_lexer": "ipython3",
   "version": "3.11.5"
  }
 },
 "nbformat": 4,
 "nbformat_minor": 5
}
