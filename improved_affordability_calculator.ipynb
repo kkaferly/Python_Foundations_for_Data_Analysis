{
 "cells": [
  {
   "cell_type": "markdown",
   "id": "f119d43f",
   "metadata": {},
   "source": [
    "### Improved Affordability Calculator.\n",
    "\n",
    "We need to make sure our affordability calculator can handle many data types without stopping - our data is VERY messy. We need to make the following changes to the code below:\n",
    "\n",
    "\n",
    "* Make sure it converts the string in the list below into a float. Print a warning that this was string data. Then process as usual.\n",
    "\n",
    "* Also, have the loop skip any instances of None data type.\n",
    "\n",
    "* Then, remove the generic except statement to avoid processing errors.\n",
    "\n",
    "* Finally, change the hard coded value 50 into a variable so we can change this value based on each customer's budget."
   ]
  },
  {
   "cell_type": "code",
   "execution_count": 7,
   "id": "fcfa2a1a",
   "metadata": {},
   "outputs": [
    {
     "name": "stdout",
     "output_type": "stream",
     "text": [
      "I can buy 8.0 of these.\n",
      "I can buy 2.0 of these.\n",
      "I can buy 2.0 of these.\n",
      "This product is free, I can take as many as I like.\n",
      "I can buy 0.0 of these.\n",
      "I can buy 0.0 of these.\n"
     ]
    }
   ],
   "source": [
    "price_list = [5.99, None, 19.99, 24.99, 0, '74.99', 99.99]\n",
    "budget = 50\n",
    "\n",
    "# loop to calculate how many of each item I can buy\n",
    "for price in price_list:\n",
    "    if price == None:\n",
    "        continue\n",
    "    try:\n",
    "        affordable_quantity = budget//price\n",
    "        print(f'I can buy {affordable_quantity} of these.')\n",
    "    except ZeroDivisionError:\n",
    "        print('This product is free, I can take as many as I like.')\n",
    "    except TypeError:\n",
    "        affordable_quantity = budget//float(price)\n",
    "        print(f'I can buy {affordable_quantity} of these.')\n",
    "    except:\n",
    "        print(\"That's not a number\")"
   ]
  }
 ],
 "metadata": {
  "kernelspec": {
   "display_name": "Python 3 (ipykernel)",
   "language": "python",
   "name": "python3"
  },
  "language_info": {
   "codemirror_mode": {
    "name": "ipython",
    "version": 3
   },
   "file_extension": ".py",
   "mimetype": "text/x-python",
   "name": "python",
   "nbconvert_exporter": "python",
   "pygments_lexer": "ipython3",
   "version": "3.11.5"
  }
 },
 "nbformat": 4,
 "nbformat_minor": 5
}
