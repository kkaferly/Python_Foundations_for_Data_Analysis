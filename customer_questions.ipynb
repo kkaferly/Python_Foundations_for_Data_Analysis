{
 "cells": [
  {
   "cell_type": "markdown",
   "id": "0a85a457",
   "metadata": {},
   "source": [
    "## What are the highest and lowest priced items we sell?"
   ]
  },
  {
   "cell_type": "code",
   "execution_count": 1,
   "id": "e8e013bd",
   "metadata": {},
   "outputs": [],
   "source": [
    "price_list = [129.99, 99.99, 119.19, 99.99, 89.99, 79.99, 49.99]"
   ]
  },
  {
   "cell_type": "code",
   "execution_count": 2,
   "id": "3ef3ee25",
   "metadata": {},
   "outputs": [
    {
     "name": "stdout",
     "output_type": "stream",
     "text": [
      "49.99 129.99\n"
     ]
    }
   ],
   "source": [
    "lowest_price = min(price_list)\n",
    "highest_price = max(price_list)\n",
    "\n",
    "print(lowest_price, highest_price)"
   ]
  },
  {
   "cell_type": "markdown",
   "id": "0ef5a29b",
   "metadata": {},
   "source": [
    "## How much would it cost for a customer to purchase two of every item in the price list?\n",
    "\n",
    "Rounded to the nearest dollar."
   ]
  },
  {
   "cell_type": "code",
   "execution_count": 7,
   "id": "85f9263b",
   "metadata": {},
   "outputs": [
    {
     "name": "stdout",
     "output_type": "stream",
     "text": [
      "1338\n"
     ]
    }
   ],
   "source": [
    "cost_of_items = sum(price_list)\n",
    "cost_multiplier = 2\n",
    "cost_of_2x = round(cost_multiplier * cost_of_items)\n",
    "\n",
    "print(cost_of_2x)"
   ]
  }
 ],
 "metadata": {
  "kernelspec": {
   "display_name": "Python 3 (ipykernel)",
   "language": "python",
   "name": "python3"
  },
  "language_info": {
   "codemirror_mode": {
    "name": "ipython",
    "version": 3
   },
   "file_extension": ".py",
   "mimetype": "text/x-python",
   "name": "python",
   "nbconvert_exporter": "python",
   "pygments_lexer": "ipython3",
   "version": "3.11.5"
  }
 },
 "nbformat": 4,
 "nbformat_minor": 5
}
