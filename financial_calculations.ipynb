{
 "cells": [
  {
   "cell_type": "markdown",
   "id": "745753a4",
   "metadata": {},
   "source": [
    "## 1. Calculate the gross profit on our snowboard\n",
    "\n",
    "Formula: Price minus cost"
   ]
  },
  {
   "cell_type": "code",
   "execution_count": 2,
   "id": "b9ed3f70",
   "metadata": {},
   "outputs": [],
   "source": [
    "snowboard_price = 499.99\n",
    "snowboard_cost = 199.99"
   ]
  },
  {
   "cell_type": "code",
   "execution_count": 4,
   "id": "4ce2723c",
   "metadata": {},
   "outputs": [
    {
     "name": "stdout",
     "output_type": "stream",
     "text": [
      "300.0\n"
     ]
    }
   ],
   "source": [
    "gross_profit = snowboard_price - snowboard_cost\n",
    "\n",
    "print(gross_profit)"
   ]
  },
  {
   "cell_type": "markdown",
   "id": "0b7eb8f2",
   "metadata": {},
   "source": [
    "## 2. Calculate the gross margin on our snowboard\n",
    "\n",
    "Formula: Gross profit divided by price"
   ]
  },
  {
   "cell_type": "code",
   "execution_count": 5,
   "id": "4b59d3ec",
   "metadata": {},
   "outputs": [
    {
     "name": "stdout",
     "output_type": "stream",
     "text": [
      "0.6000120002400048\n"
     ]
    }
   ],
   "source": [
    "gross_margin = gross_profit / snowboard_price\n",
    "\n",
    "print(gross_margin)"
   ]
  },
  {
   "cell_type": "markdown",
   "id": "95e6c821",
   "metadata": {},
   "source": [
    "## 3. Calculate the price needed to obtain a gross margin of 70%\n",
    "\n",
    "Formula: Cost divided by (1 minus the desired margin)"
   ]
  },
  {
   "cell_type": "code",
   "execution_count": 6,
   "id": "db403a03",
   "metadata": {},
   "outputs": [
    {
     "name": "stdout",
     "output_type": "stream",
     "text": [
      "666.6333333333332\n"
     ]
    }
   ],
   "source": [
    "price_needed_for70 = snowboard_cost / (1 - 0.70)\n",
    "\n",
    "print(price_needed_for70)"
   ]
  },
  {
   "cell_type": "markdown",
   "id": "1a596494",
   "metadata": {},
   "source": [
    "## 4. Calculate the sales tax on a sale of our snowboard\n",
    "\n",
    "Tax rate: 8%\n",
    "\n",
    "Formula: Price times tax rate"
   ]
  },
  {
   "cell_type": "code",
   "execution_count": 1,
   "id": "c10503ac",
   "metadata": {},
   "outputs": [],
   "source": [
    "tax_rate = .08"
   ]
  },
  {
   "cell_type": "code",
   "execution_count": 8,
   "id": "3e5a9f7c",
   "metadata": {},
   "outputs": [
    {
     "name": "stdout",
     "output_type": "stream",
     "text": [
      "39.9992\n"
     ]
    }
   ],
   "source": [
    "sales_tax = snowboard_price * tax_rate\n",
    "\n",
    "print(sales_tax)"
   ]
  },
  {
   "cell_type": "markdown",
   "id": "896d2428",
   "metadata": {},
   "source": [
    "## 5. Calculate the amount of money we'd have if we invested the profit from selling 5 snowboards for one year\n",
    "\n",
    "Assume an interest rate of 5%\n",
    "\n",
    "The formula is the amount_invested plus (amount_invested times interest_rate)"
   ]
  },
  {
   "cell_type": "code",
   "execution_count": 9,
   "id": "c85211f0",
   "metadata": {},
   "outputs": [],
   "source": [
    "amount_invested = 5 * gross_profit\n",
    "interest_rate = .05"
   ]
  },
  {
   "cell_type": "code",
   "execution_count": 10,
   "id": "52160c1e",
   "metadata": {},
   "outputs": [
    {
     "name": "stdout",
     "output_type": "stream",
     "text": [
      "1575.0\n"
     ]
    }
   ],
   "source": [
    "amount_after_1yr = amount_invested + (amount_invested * interest_rate)\n",
    "\n",
    "print(amount_after_1yr)"
   ]
  }
 ],
 "metadata": {
  "kernelspec": {
   "display_name": "Python 3 (ipykernel)",
   "language": "python",
   "name": "python3"
  },
  "language_info": {
   "codemirror_mode": {
    "name": "ipython",
    "version": 3
   },
   "file_extension": ".py",
   "mimetype": "text/x-python",
   "name": "python",
   "nbconvert_exporter": "python",
   "pygments_lexer": "ipython3",
   "version": "3.11.5"
  }
 },
 "nbformat": 4,
 "nbformat_minor": 5
}
