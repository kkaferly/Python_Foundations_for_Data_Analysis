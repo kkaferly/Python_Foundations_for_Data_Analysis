{
 "cells": [
  {
   "cell_type": "markdown",
   "id": "904a210c",
   "metadata": {},
   "source": [
    "## Tax Printing Code Change\n",
    "\n",
    "For your first task, I'd like you to change the code that adds a dollar in tax to our price before printing. The tax will no longer be fixed at one dollar, so:\n",
    "\n",
    "* Create a 'tax' variable and assign it a value of 2\n",
    "* Create a 'total' variable equal to 'price' + 'tax'\n",
    "* Print 'total'"
   ]
  },
  {
   "cell_type": "code",
   "execution_count": 1,
   "id": "0667e698",
   "metadata": {},
   "outputs": [
    {
     "name": "stdout",
     "output_type": "stream",
     "text": [
      "6\n"
     ]
    }
   ],
   "source": [
    "price = 5\n",
    "\n",
    "print(price + 1)"
   ]
  },
  {
   "cell_type": "code",
   "execution_count": 6,
   "id": "8b47cfcf",
   "metadata": {},
   "outputs": [
    {
     "name": "stdout",
     "output_type": "stream",
     "text": [
      "7\n"
     ]
    }
   ],
   "source": [
    "price = 5\n",
    "tax = 2\n",
    "total = price + tax\n",
    "\n",
    "print(total)"
   ]
  },
  {
   "cell_type": "code",
   "execution_count": null,
   "id": "69b7cd9e",
   "metadata": {},
   "outputs": [],
   "source": []
  }
 ],
 "metadata": {
  "kernelspec": {
   "display_name": "Python 3 (ipykernel)",
   "language": "python",
   "name": "python3"
  },
  "language_info": {
   "codemirror_mode": {
    "name": "ipython",
    "version": 3
   },
   "file_extension": ".py",
   "mimetype": "text/x-python",
   "name": "python",
   "nbconvert_exporter": "python",
   "pygments_lexer": "ipython3",
   "version": "3.11.5"
  }
 },
 "nbformat": 4,
 "nbformat_minor": 5
}
