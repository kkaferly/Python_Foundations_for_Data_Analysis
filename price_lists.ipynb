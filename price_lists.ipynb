{
 "cells": [
  {
   "cell_type": "markdown",
   "id": "55316c70",
   "metadata": {},
   "source": [
    "## Price Lists\n",
    "\n",
    "Create variables representing 2018, 2019, and 2020 price lists.\n",
    "Variables are to be given names in the format 'price_list_year'."
   ]
  },
  {
   "cell_type": "code",
   "execution_count": 1,
   "id": "ad33fc60",
   "metadata": {},
   "outputs": [],
   "source": [
    "price_list_2018 = [4.99, 8.99, 17.99, 22.99, 94.99]\n",
    "price_list_2019 = [5.99, 9.99, 19.99, 24.99, 99.99]\n",
    "price_list_2020 = [6.49, 10.49, 19.99, 26.99, 104.99]"
   ]
  },
  {
   "cell_type": "code",
   "execution_count": 2,
   "id": "6c4ac273",
   "metadata": {},
   "outputs": [
    {
     "name": "stdout",
     "output_type": "stream",
     "text": [
      "Variable          Type    Data/Info\n",
      "-----------------------------------\n",
      "price_list_2018   list    n=5\n",
      "price_list_2019   list    n=5\n",
      "price_list_2020   list    n=5\n"
     ]
    }
   ],
   "source": [
    "%whos"
   ]
  }
 ],
 "metadata": {
  "kernelspec": {
   "display_name": "Python 3 (ipykernel)",
   "language": "python",
   "name": "python3"
  },
  "language_info": {
   "codemirror_mode": {
    "name": "ipython",
    "version": 3
   },
   "file_extension": ".py",
   "mimetype": "text/x-python",
   "name": "python",
   "nbconvert_exporter": "python",
   "pygments_lexer": "ipython3",
   "version": "3.11.5"
  }
 },
 "nbformat": 4,
 "nbformat_minor": 5
}
